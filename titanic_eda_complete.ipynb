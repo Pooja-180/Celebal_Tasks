{
 "cells": [
  {
   "cell_type": "code",
   "execution_count": null,
   "id": "110182e0",
   "metadata": {},
   "outputs": [],
   "source": [
    "# Titanic Dataset Exploratory Data Analysis (EDA)\n",
    "\n",
    "# 1. Import necessary libraries\n",
    "import pandas as pd\n",
    "import numpy as np\n",
    "import matplotlib.pyplot as plt\n",
    "import seaborn as sns\n",
    "\n",
    "pd.set_option('display.max_columns', None)\n",
    "sns.set(style=\"whitegrid\")"
   ]
  },
  {
   "cell_type": "code",
   "execution_count": null,
   "id": "3b1f3508",
   "metadata": {},
   "outputs": [],
   "source": [
    "# 2. Load dataset\n",
    "df = pd.read_csv('/kaggle/input/titanic/train.csv')  # Change path if needed"
   ]
  },
  {
   "cell_type": "code",
   "execution_count": null,
   "id": "6b9dad8b",
   "metadata": {},
   "outputs": [],
   "source": [
    "# 3. Initial inspection\n",
    "print(\"Shape:\", df.shape)\n",
    "print(\"\\nFirst 5 rows:\\n\", df.head())\n",
    "print(\"\\nInfo:\\n\")\n",
    "df.info()\n",
    "print(\"\\nDescription:\\n\", df.describe(include='all'))"
   ]
  },
  {
   "cell_type": "code",
   "execution_count": null,
   "id": "921d6cdd",
   "metadata": {},
   "outputs": [],
   "source": [
    "# 4. Missing values\n",
    "missing = df.isnull().sum()\n",
    "print(\"\\nMissing Values:\\n\", missing[missing > 0])\n",
    "\n",
    "# Visualize missing values\n",
    "plt.figure(figsize=(8,5))\n",
    "sns.barplot(x=missing[missing > 0].values, y=missing[missing > 0].index, palette='viridis')\n",
    "plt.title(\"Missing Values Count\")\n",
    "plt.xlabel(\"Count\")\n",
    "plt.ylabel(\"Feature\")\n",
    "plt.show()"
   ]
  },
  {
   "cell_type": "code",
   "execution_count": null,
   "id": "e31edef4",
   "metadata": {},
   "outputs": [],
   "source": [
    "# 5. Univariate Analysis\n",
    "# Survived\n",
    "sns.countplot(x='Survived', data=df, palette='Set2')\n",
    "plt.title(\"Survival Count\")\n",
    "plt.show()\n",
    "\n",
    "# Sex\n",
    "sns.countplot(x='Sex', data=df, palette='Set1')\n",
    "plt.title(\"Gender Distribution\")\n",
    "plt.show()\n",
    "\n",
    "# Pclass\n",
    "sns.countplot(x='Pclass', data=df, palette='Set3')\n",
    "plt.title(\"Passenger Class Distribution\")\n",
    "plt.show()\n",
    "\n",
    "# Age distribution\n",
    "plt.figure(figsize=(10, 5))\n",
    "sns.histplot(df['Age'].dropna(), kde=True, bins=30)\n",
    "plt.title(\"Age Distribution\")\n",
    "plt.xlabel(\"Age\")\n",
    "plt.ylabel(\"Frequency\")\n",
    "plt.show()"
   ]
  },
  {
   "cell_type": "code",
   "execution_count": null,
   "id": "bebdb547",
   "metadata": {},
   "outputs": [],
   "source": [
    "# 6. Outlier Detection with Boxplots\n",
    "plt.figure(figsize=(8, 5))\n",
    "sns.boxplot(x='Pclass', y='Age', data=df)\n",
    "plt.title(\"Boxplot of Age by Pclass\")\n",
    "plt.show()\n",
    "\n",
    "plt.figure(figsize=(8, 5))\n",
    "sns.boxplot(x='Survived', y='Fare', data=df)\n",
    "plt.title(\"Boxplot of Fare by Survival\")\n",
    "plt.show()"
   ]
  },
  {
   "cell_type": "code",
   "execution_count": null,
   "id": "7263d210",
   "metadata": {},
   "outputs": [],
   "source": [
    "# 7. Bivariate Analysis\n",
    "\n",
    "# Survival rate by gender\n",
    "sns.countplot(x='Survived', hue='Sex', data=df, palette='coolwarm')\n",
    "plt.title(\"Survival by Gender\")\n",
    "plt.show()\n",
    "\n",
    "# Survival rate by class\n",
    "sns.countplot(x='Survived', hue='Pclass', data=df, palette='rocket')\n",
    "plt.title(\"Survival by Passenger Class\")\n",
    "plt.show()\n",
    "\n",
    "# Age vs Survival\n",
    "plt.figure(figsize=(10, 6))\n",
    "sns.kdeplot(df.loc[df['Survived'] == 1, 'Age'], label='Survived', shade=True)\n",
    "sns.kdeplot(df.loc[df['Survived'] == 0, 'Age'], label='Did Not Survive', shade=True)\n",
    "plt.title(\"Age Distribution by Survival\")\n",
    "plt.legend()\n",
    "plt.show()"
   ]
  },
  {
   "cell_type": "code",
   "execution_count": null,
   "id": "41629e5b",
   "metadata": {},
   "outputs": [],
   "source": [
    "# 8. Heatmap of Correlations\n",
    "plt.figure(figsize=(10, 8))\n",
    "corr = df.corr(numeric_only=True)\n",
    "sns.heatmap(corr, annot=True, cmap='coolwarm', fmt='.2f')\n",
    "plt.title(\"Correlation Heatmap\")\n",
    "plt.show()"
   ]
  },
  {
   "cell_type": "code",
   "execution_count": null,
   "id": "358f172c",
   "metadata": {},
   "outputs": [],
   "source": [
    "# 9. Cleaning Insight (Optional: fill missing values)\n",
    "df['Age'].fillna(df['Age'].median(), inplace=True)\n",
    "df['Embarked'].fillna(df['Embarked'].mode()[0], inplace=True)\n",
    "\n",
    "# Check again\n",
    "print(\"\\nMissing After Filling:\\n\", df.isnull().sum())\n",
    "\n",
    "# Done!\n",
    "print(\"\\n✅ EDA Completed.\")"
   ]
  }
 ],
 "metadata": {
  "kernelspec": {
   "display_name": "Python 3",
   "name": "python3"
  },
  "language_info": {
   "name": "python",
   "version": "3.11"
  }
 },
 "nbformat": 4,
 "nbformat_minor": 5
}